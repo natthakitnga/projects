{
 "cells": [
  {
   "cell_type": "markdown",
   "source": [
    "MONTHLY RENTAL CONDOMINIUM\n",
    "---\n",
    "web scraping from https://www.livinginsider.com"
   ],
   "metadata": {}
  },
  {
   "cell_type": "markdown",
   "source": [
    "# TASK 1 : import library\n",
    "---"
   ],
   "metadata": {}
  },
  {
   "cell_type": "code",
   "execution_count": null,
   "source": [
    "from bs4 import BeautifulSoup\n",
    "import requests\n",
    "import pandas as pd\n",
    "import numpy as np\n",
    "import seaborn as sns"
   ],
   "outputs": [],
   "metadata": {}
  },
  {
   "cell_type": "markdown",
   "source": [
    "# TASK 2 : scrape from website\n",
    "---"
   ],
   "metadata": {}
  },
  {
   "cell_type": "code",
   "execution_count": null,
   "source": [
    "list_link = []\n",
    "for i in range(1,2092):\n",
    "    list_link.append('https://www.livinginsider.com/searchword/Condo/Rent/' + str(i) + '/%E0%B8%A3%E0%B8%A7%E0%B8%A1%E0%B8%9B%E0%B8%A3%E0%B8%B0%E0%B8%81%E0%B8%B2%E0%B8%A8-%E0%B9%80%E0%B8%8A%E0%B9%88%E0%B8%B2-%E0%B8%84%E0%B8%AD%E0%B8%99%E0%B9%82%E0%B8%94.html')"
   ],
   "outputs": [],
   "metadata": {}
  },
  {
   "cell_type": "code",
   "execution_count": null,
   "source": [
    "# scrape title of each condominium\n",
    "condo_title = []\n",
    "def def_title(soupsoup):\n",
    "    raw_data = soupsoup.find_all('div', {'class':'col-md-12 col-sm-12'})\n",
    "    for t in raw_data:\n",
    "        condo_title.append(t.text)\n",
    "    return condo_title"
   ],
   "outputs": [],
   "metadata": {}
  },
  {
   "cell_type": "code",
   "execution_count": null,
   "source": [
    "# scrape rental price of each condominium post\n",
    "condo_price = []\n",
    "def def_price(soupsoup):\n",
    "    raw_data = soupsoup.find_all('div',{'class':'t-16'})\n",
    "    for p in raw_data:\n",
    "        condo_price.append(int(p.text.replace(',','').replace('฿','')))\n",
    "    return condo_price"
   ],
   "outputs": [],
   "metadata": {}
  },
  {
   "cell_type": "code",
   "execution_count": null,
   "source": [
    "# scrape reach of each condominium post\n",
    "condo_reach = []\n",
    "def def_reach(soupsoup):\n",
    "    raw_data = soupsoup.find_all('div',attrs={'class':'istock-view pull-right'})\n",
    "    for r in raw_data:\n",
    "        condo_reach.append(r.text.split()[0])\n",
    "    return condo_reach     "
   ],
   "outputs": [],
   "metadata": {}
  },
  {
   "cell_type": "code",
   "execution_count": null,
   "source": [
    "# scrape create date of each condominium post\n",
    "condo_cdate = []\n",
    "def def_cdate(soupsoup):\n",
    "    raw_data = soupsoup.find_all('div', {'class':'istock-lastdate pull-left'})\n",
    "    for d in raw_data:\n",
    "        condo_cdate.append(d.text.split())\n",
    "    return condo_cdate"
   ],
   "outputs": [],
   "metadata": {}
  },
  {
   "cell_type": "code",
   "execution_count": null,
   "source": [
    "# scrape location of each condominium post (location means group of this location)\n",
    "condo_location = []\n",
    "def def_location(soupsoup):\n",
    "    raw_data = soupsoup.find_all('div', {'class':'col-md-12 col-sm-12 col-xs-12 ic-detail-zone'})\n",
    "    for l in raw_data:\n",
    "        condo_location.append(l.find('span').text)\n",
    "    return condo_location"
   ],
   "outputs": [],
   "metadata": {}
  },
  {
   "cell_type": "code",
   "execution_count": null,
   "source": [
    "# scrape detail date of each condominium post. This list have area of room, number of bedroom, number of bathroom and floor level \n",
    "condo_detail = []\n",
    "def def_detail(soupsoup):\n",
    "    raw_data = soupsoup.find_all('div', {'class':'col-md-12 col-sm-12 div-ic-detail'})\n",
    "    for dt in raw_data:\n",
    "        condo_detail.append(dt.text.split())\n",
    "    return condo_detail"
   ],
   "outputs": [],
   "metadata": {}
  },
  {
   "cell_type": "code",
   "execution_count": null,
   "source": [
    "# run to collect data \n",
    "for i in range(1,2092):\n",
    "    r = requests.get(list_link[i-1])\n",
    "    soup = BeautifulSoup(r.text, 'lxml')\n",
    "    def_title(soup)\n",
    "    def_price(soup)\n",
    "    def_reach(soup)\n",
    "    def_cdate(soup)\n",
    "    def_location(soup)\n",
    "    def_detail(soup)"
   ],
   "outputs": [],
   "metadata": {}
  },
  {
   "cell_type": "markdown",
   "source": [
    "# TASK 3 : clean data\n",
    "---"
   ],
   "metadata": {}
  },
  {
   "cell_type": "code",
   "execution_count": null,
   "source": [
    "tt = []\n",
    "for t in condo_title:\n",
    "    tt.append(t.replace('\\n', '').lstrip().rstrip())\n",
    "\n",
    "for i in tt[:]:\n",
    "    if i == '':\n",
    "        tt.remove(i)\n",
    "    elif i in ['แพ็กเกจพิเศษ ติดต่อสอบถามได้ที่Sale@Livinginsider.com', 'Foreigner Quota']:\n",
    "        tt.remove(i)\n",
    "\n",
    "condo_title = tt"
   ],
   "outputs": [],
   "metadata": {}
  },
  {
   "cell_type": "code",
   "execution_count": null,
   "source": [
    "raw_data = pd.DataFrame([condo_title,condo_price,condo_reach,condo_location]).transpose()\n",
    "raw_data_c = pd.DataFrame(condo_cdate)\n",
    "raw_data_d = pd.DataFrame(condo_detail)"
   ],
   "outputs": [],
   "metadata": {}
  },
  {
   "cell_type": "code",
   "execution_count": null,
   "source": [
    "raw_data = pd.merge(raw_data,raw_data_c,left_index=True, right_index=True)\n",
    "raw_data = pd.merge(raw_data,raw_data_d,left_index=True, right_index=True)"
   ],
   "outputs": [],
   "metadata": {}
  },
  {
   "cell_type": "code",
   "execution_count": null,
   "source": [
    "raw_data = raw_data.rename(columns={'0_x':'title', '1_x':'rent_price', '2_x':'reach', '3_x':'location_zone', \n",
    "                         '0_y':'cdate', '1_y':'ctime', 0:'area_mm', 1:'mm_measure', '2_y':'floor', \n",
    "                         '3_y':'floor_level', 4:'unit_room',5:'roomtype', 6:'unit_bath', 7:'bathroom' })"
   ],
   "outputs": [],
   "metadata": {}
  },
  {
   "cell_type": "code",
   "execution_count": null,
   "source": [
    "raw_data = raw_data.drop_duplicates(keep='last', ignore_index=True)"
   ],
   "outputs": [],
   "metadata": {}
  },
  {
   "cell_type": "markdown",
   "source": [
    " *change reach format (eg. 5k to 5000)*\n"
   ],
   "metadata": {}
  },
  {
   "cell_type": "code",
   "execution_count": null,
   "source": [
    "new_condo_reach = []\n",
    "for r in raw_data['reach']:\n",
    "    if r[-1] == 'k':\n",
    "        y = float(r.replace('k',''))\n",
    "        new_condo_reach.append(int(y * 1000))\n",
    "    else:\n",
    "        new_condo_reach.append(int(r))"
   ],
   "outputs": [],
   "metadata": {}
  },
  {
   "cell_type": "code",
   "execution_count": null,
   "source": [
    "new_condo_reach = pd.DataFrame(new_condo_reach).reset_index()"
   ],
   "outputs": [],
   "metadata": {}
  },
  {
   "cell_type": "code",
   "execution_count": null,
   "source": [
    "#merge to raw_data\n",
    "raw_data = pd.merge(raw_data, new_condo_reach, on='index', how='inner')"
   ],
   "outputs": [],
   "metadata": {}
  },
  {
   "cell_type": "code",
   "execution_count": null,
   "source": [
    "#drop reach column\n",
    "raw_data = raw_data.drop(columns=['reach'])"
   ],
   "outputs": [],
   "metadata": {}
  },
  {
   "cell_type": "markdown",
   "source": [
    " *merge cdate and ctime to datetime datatype before starting clean cdate and ctime unformat*\n",
    "\n",
    " find different day starting from crete post date, To current days just scrape data."
   ],
   "metadata": {}
  },
  {
   "cell_type": "code",
   "execution_count": null,
   "source": [
    "for i in ['วินาทีที่แล้ว', 'นาทีที่แล้ว', 'ชั่วโมงที่แล้ว', 'เมื่อวานนี้']\n",
    "    clean_oldtime_data = raw_data[raw_data['ctime'] != i ]"
   ],
   "outputs": [],
   "metadata": {}
  },
  {
   "cell_type": "code",
   "execution_count": null,
   "source": [
    "raw_data = clean_oldtime_data.reset_index()"
   ],
   "outputs": [],
   "metadata": {}
  },
  {
   "cell_type": "code",
   "execution_count": null,
   "source": [
    "raw_data['to_date'] = pd.to_datetime(raw_data['to_date'])\n",
    "raw_data['from_date'] = raw_data['cdate'].map(str) + ' ' + raw_data['ctime'].map(str) \n",
    "raw_data['from_date'] = pd.to_datetime(raw_data['from_date'])\n",
    "raw_data = raw_data.drop(columns=['cdate', 'ctime'])\n",
    "raw_data['diff_day'] = (raw_data['to_date'] - raw_data['from_date']) / np.timedelta64(1, 'D')"
   ],
   "outputs": [],
   "metadata": {}
  },
  {
   "cell_type": "markdown",
   "source": [
    " *merge unit_room, roomtype, unit_bath and bathroom to separate into bedroom_unit and bathroom_unit numberical format*"
   ],
   "metadata": {}
  },
  {
   "cell_type": "code",
   "execution_count": null,
   "source": [
    "raw_data['room_detail'] = raw_data['unit_room'].map(str) + raw_data['roomtype'].map(str) + raw_data['unit_bath'].map(str) + raw_data['bathroom'].map(str)\n",
    "raw_data = raw_data.drop(columns=['unit_room', 'roomtype', 'unit_bath', 'bathroom'])"
   ],
   "outputs": [],
   "metadata": {}
  },
  {
   "cell_type": "code",
   "execution_count": null,
   "source": [
    "bedroom_unit = []\n",
    "for i in raw_data['room_detail']:\n",
    "    if i[0] == '1':\n",
    "        bedroom_unit.append(1)\n",
    "    elif i[0] == '2':\n",
    "        bedroom_unit.append(2)\n",
    "    elif i[0] == '3':\n",
    "        bedroom_unit.append(3)\n",
    "    elif i[0] == '4':\n",
    "        bedroom_unit.append(4)\n",
    "    elif i[0] == '5':\n",
    "        bedroom_unit.append(5)\n",
    "    elif i[0] == '8':\n",
    "        bedroom_unit.append(8)\n",
    "    else:\n",
    "        bedroom_unit.append(0)\n",
    "bedroom_unit = pd.DataFrame(bedroom_unit)"
   ],
   "outputs": [],
   "metadata": {}
  },
  {
   "cell_type": "code",
   "execution_count": null,
   "source": [
    "bathroom_unit = []\n",
    "for i in raw_data['room_detail']:\n",
    "    if i[8] in ('1', '2', '3', '4', '5'):\n",
    "        bathroom_unit.append(i[8])\n",
    "    elif i[11] in ('1', '2', '3'):\n",
    "        bathroom_unit.append(i[11])\n",
    "    else:\n",
    "        bathroom_unit.append(i[9])\n",
    "bathroom_unit = pd.DataFrame(bathroom_unit)"
   ],
   "outputs": [],
   "metadata": {}
  },
  {
   "cell_type": "code",
   "execution_count": null,
   "source": [
    "raw_data = pd.merge(raw_data, bedroom_unit, on='index', how='inner' )\n",
    "raw_data = pd.merge(raw_data, bathroom_unit, on='index', how='inner' )"
   ],
   "outputs": [],
   "metadata": {}
  },
  {
   "cell_type": "markdown",
   "source": [
    " *change datatype to correct format*"
   ],
   "metadata": {}
  },
  {
   "cell_type": "code",
   "execution_count": null,
   "source": [
    "raw_data['rent_price'] = raw_data['rent_price'].astype('int')\n",
    "raw_data['area_mm'] = raw_data.to_numeric(df['area_mm'])\n",
    "raw_data['new_reach'] = raw_data['new_reach'].astype('int')\n",
    "raw_data['bedroom_unit'] = raw_data['bedroom_unit'].astype('int')\n",
    "raw_data['bathroom_unit'] = raw_data['bathroom_unit'].astype('int')"
   ],
   "outputs": [],
   "metadata": {}
  },
  {
   "cell_type": "markdown",
   "source": [
    " *export csv file to visualize in tableau*"
   ],
   "metadata": {}
  },
  {
   "cell_type": "code",
   "execution_count": null,
   "source": [
    "raw_data.to_csv('/lvinsider_data.csv')"
   ],
   "outputs": [],
   "metadata": {}
  },
  {
   "cell_type": "markdown",
   "source": [
    "# TASK 3 : Visualize \n",
    "---"
   ],
   "metadata": {}
  },
  {
   "cell_type": "markdown",
   "source": [],
   "metadata": {}
  },
  {
   "cell_type": "markdown",
   "source": [
    "# TASK 4: Analyzed correlation two independent variable\n",
    "---\n",
    "analyzed only top 15 location_zone to find correlation"
   ],
   "metadata": {}
  },
  {
   "cell_type": "code",
   "execution_count": null,
   "source": [
    "locat = ['สมุทรปราการ สำโรง', 'เสรีไทย-นิด้า', 'นานา', 'บางแค เพชรเกษม',\n",
    "       'วิภาวดี ดอนเมือง หลักสี่ ', 'สีลม ศาลาแดง บางรัก',\n",
    "       'พระราม 2 บางขุนเทียน', 'พระราม 5 ราชพฤกษ์ บางกรวย',\n",
    "       'เกษตร นวมินทร์ ลาดปลาเค้า', 'นนทบุรี บางใหญ่ บางบัวทอง',\n",
    "       'เลียบทางด่วนรามอินทรา', 'ปิ่นเกล้า จรัญสนิทวงศ์', 'นวมินทร์ รามอินทรา',\n",
    "       'พัฒนาการ ศรีนครินทร์',\n",
    "       'แจ้งวัฒนะ เมืองทอง', 'เกษตรศาสตร์ รัชโยธิน',\n",
    "       'รัตนาธิเบศร์ สนามบินน้ำ พระนั่งเกล้า', 'พระราม 3 สาธุประดิษฐ์',\n",
    "       'คลองเตย กล้วยน้ำไท', 'รามคำแหง หัวหมาก', 'ลาดกระบัง สุวรรณภูมิ', 'ปทุมธานี รังสิต ธรรมศาสตร์',\n",
    "       'พระราม 8 สามเสน ราชวัตร', 'โชคชัย4 ลาดพร้าว71',\n",
    "       'มีนบุรี-ร่มเกล้า', 'ลาดพร้าว101 แฮปปี้แลนด์',\n",
    "       'นครปฐม พุทธมณฑล ศาลายา', 'ราษฎร์บูรณะ สุขสวัสดิ์',\n",
    "       'เยาวราช บางลำพู']\n",
    "for i in locat:\n",
    "    df_temp = raw_data.loc[df_temp['location_zone'] != i ] "
   ],
   "outputs": [],
   "metadata": {}
  },
  {
   "cell_type": "code",
   "execution_count": null,
   "source": [
    "df_temp['diff_day'] = df_temp['']"
   ],
   "outputs": [],
   "metadata": {}
  },
  {
   "cell_type": "code",
   "execution_count": null,
   "source": [
    "df_temp['reach_per_day'] = df_temp['new_reach'] / df_temp['diff_day']"
   ],
   "outputs": [],
   "metadata": {}
  },
  {
   "cell_type": "code",
   "execution_count": null,
   "source": [
    "#change the type to stored categorically\n",
    "df_temp.location_zone = pd.Categorical(df_temp.location_zone)"
   ],
   "outputs": [],
   "metadata": {}
  },
  {
   "cell_type": "code",
   "execution_count": null,
   "source": [
    "#create bin stored interval of area and change to catagory format\n",
    "df_temp['area_bins'] = pd.qcut(df['area_mm'], 15)"
   ],
   "outputs": [],
   "metadata": {}
  },
  {
   "cell_type": "code",
   "execution_count": null,
   "source": [
    "df_temp = df_temp.drop(columns=['new_reach', 'diff_day', 'area_mm'])"
   ],
   "outputs": [],
   "metadata": {}
  },
  {
   "cell_type": "code",
   "execution_count": null,
   "source": [
    "sns.pairplot(df_temp)"
   ],
   "outputs": [],
   "metadata": {}
  },
  {
   "cell_type": "code",
   "execution_count": null,
   "source": [
    "sns.heatmap(df_temp.corr(), annot=True, cmap='coolwarm')"
   ],
   "outputs": [],
   "metadata": {}
  },
  {
   "cell_type": "markdown",
   "source": [
    "จะเห็นว่า rent_price มีความสัมพันธ์ดชิงลบกับ reach_per_day นัน่คือ หากค่าเช่าสูงขึ้นจะทำให้ ยอดการเข้าชมโฟสนั้นต่อวันน้อย ในทางกลับกัน หากค่าเช่าถูก ยอดการเข้าชมโฟสต่อวันจะมาก ในระดับนับสำคัญที่ 0.05"
   ],
   "metadata": {}
  }
 ],
 "metadata": {
  "orig_nbformat": 4,
  "language_info": {
   "name": "python"
  }
 },
 "nbformat": 4,
 "nbformat_minor": 2
}