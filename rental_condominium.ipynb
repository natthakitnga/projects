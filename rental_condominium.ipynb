{
 "cells": [
  {
   "cell_type": "markdown",
   "source": [
    "**MONTHLY RENTAL CONDOMINIUM**\n",
    "---\n",
    "web scraping from https://www.livinginsider.com"
   ],
   "metadata": {}
  },
  {
   "cell_type": "markdown",
   "source": [
    "# TASK 1 : import library\n",
    "---"
   ],
   "metadata": {}
  },
  {
   "cell_type": "code",
   "execution_count": 20,
   "source": [
    "from bs4 import BeautifulSoup\n",
    "import requests\n",
    "import pandas as pd\n",
    "import numpy as np\n",
    "import seaborn as sns\n",
    "import matplotlib.pyplot as plt"
   ],
   "outputs": [],
   "metadata": {}
  },
  {
   "cell_type": "markdown",
   "source": [
    "# TASK 2 : scrape from website\n",
    "---"
   ],
   "metadata": {}
  },
  {
   "cell_type": "code",
   "execution_count": null,
   "source": [
    "list_link = []\n",
    "for i in range(1,2092):\n",
    "    list_link.append('https://www.livinginsider.com/searchword/Condo/Rent/' + str(i) + '/%E0%B8%A3%E0%B8%A7%E0%B8%A1%E0%B8%9B%E0%B8%A3%E0%B8%B0%E0%B8%81%E0%B8%B2%E0%B8%A8-%E0%B9%80%E0%B8%8A%E0%B9%88%E0%B8%B2-%E0%B8%84%E0%B8%AD%E0%B8%99%E0%B9%82%E0%B8%94.html')"
   ],
   "outputs": [],
   "metadata": {}
  },
  {
   "cell_type": "code",
   "execution_count": null,
   "source": [
    "# scrape title of each condominium\n",
    "condo_title = []\n",
    "def def_title(soupsoup):\n",
    "    raw_data = soupsoup.find_all('div', {'class':'col-md-12 col-sm-12'})\n",
    "    for t in raw_data:\n",
    "        condo_title.append(t.text)\n",
    "    return condo_title"
   ],
   "outputs": [],
   "metadata": {}
  },
  {
   "cell_type": "code",
   "execution_count": null,
   "source": [
    "# scrape rental price of each condominium post\n",
    "condo_price = []\n",
    "def def_price(soupsoup):\n",
    "    raw_data = soupsoup.find_all('div',{'class':'t-16'})\n",
    "    for p in raw_data:\n",
    "        condo_price.append(int(p.text.replace(',','').replace('฿','')))\n",
    "    return condo_price"
   ],
   "outputs": [],
   "metadata": {}
  },
  {
   "cell_type": "code",
   "execution_count": null,
   "source": [
    "# scrape reach of each condominium post\n",
    "condo_reach = []\n",
    "def def_reach(soupsoup):\n",
    "    raw_data = soupsoup.find_all('div',attrs={'class':'istock-view pull-right'})\n",
    "    for r in raw_data:\n",
    "        condo_reach.append(r.text.split()[0])\n",
    "    return condo_reach     "
   ],
   "outputs": [],
   "metadata": {}
  },
  {
   "cell_type": "code",
   "execution_count": null,
   "source": [
    "# scrape create date of each condominium post\n",
    "condo_cdate = []\n",
    "def def_cdate(soupsoup):\n",
    "    raw_data = soupsoup.find_all('div', {'class':'istock-lastdate pull-left'})\n",
    "    for d in raw_data:\n",
    "        condo_cdate.append(d.text.split())\n",
    "    return condo_cdate"
   ],
   "outputs": [],
   "metadata": {}
  },
  {
   "cell_type": "code",
   "execution_count": null,
   "source": [
    "# scrape location of each condominium post (location means group of this location)\n",
    "condo_location = []\n",
    "def def_location(soupsoup):\n",
    "    raw_data = soupsoup.find_all('div', {'class':'col-md-12 col-sm-12 col-xs-12 ic-detail-zone'})\n",
    "    for l in raw_data:\n",
    "        condo_location.append(l.find('span').text)\n",
    "    return condo_location"
   ],
   "outputs": [],
   "metadata": {}
  },
  {
   "cell_type": "code",
   "execution_count": null,
   "source": [
    "# scrape detail date of each condominium post. This list have area of room, number of bedroom, number of bathroom and floor level \n",
    "condo_detail = []\n",
    "def def_detail(soupsoup):\n",
    "    raw_data = soupsoup.find_all('div', {'class':'col-md-12 col-sm-12 div-ic-detail'})\n",
    "    for dt in raw_data:\n",
    "        condo_detail.append(dt.text.split())\n",
    "    return condo_detail"
   ],
   "outputs": [],
   "metadata": {}
  },
  {
   "cell_type": "code",
   "execution_count": null,
   "source": [
    "# run to collect data \n",
    "for i in range(1,2092):\n",
    "    r = requests.get(list_link[i-1])\n",
    "    soup = BeautifulSoup(r.text, 'lxml')\n",
    "    def_title(soup)\n",
    "    def_price(soup)\n",
    "    def_reach(soup)\n",
    "    def_cdate(soup)\n",
    "    def_location(soup)\n",
    "    def_detail(soup)"
   ],
   "outputs": [],
   "metadata": {}
  },
  {
   "cell_type": "markdown",
   "source": [],
   "metadata": {}
  },
  {
   "cell_type": "markdown",
   "source": [
    "# TASK 3 : clean data\n",
    "---"
   ],
   "metadata": {}
  },
  {
   "cell_type": "code",
   "execution_count": null,
   "source": [
    "tt = []\n",
    "for t in condo_title:\n",
    "    tt.append(t.replace('\\n', '').lstrip().rstrip())\n",
    "\n",
    "for i in tt[:]:\n",
    "    if i == '':\n",
    "        tt.remove(i)\n",
    "    elif i in ['แพ็กเกจพิเศษ ติดต่อสอบถามได้ที่Sale@Livinginsider.com', 'Foreigner Quota']:\n",
    "        tt.remove(i)\n",
    "\n",
    "condo_title = tt"
   ],
   "outputs": [],
   "metadata": {}
  },
  {
   "cell_type": "code",
   "execution_count": null,
   "source": [
    "raw_data = pd.DataFrame([condo_title,condo_price,condo_reach,condo_location]).transpose()\n",
    "raw_data_c = pd.DataFrame(condo_cdate)\n",
    "raw_data_d = pd.DataFrame(condo_detail)"
   ],
   "outputs": [],
   "metadata": {}
  },
  {
   "cell_type": "code",
   "execution_count": null,
   "source": [
    "raw_data = pd.merge(raw_data,raw_data_c,left_index=True, right_index=True)\n",
    "raw_data = pd.merge(raw_data,raw_data_d,left_index=True, right_index=True)"
   ],
   "outputs": [],
   "metadata": {}
  },
  {
   "cell_type": "code",
   "execution_count": null,
   "source": [
    "raw_data = raw_data.rename(columns={'0_x':'title', '1_x':'rent_price', '2_x':'reach', '3_x':'location_zone', \n",
    "                         '0_y':'cdate', '1_y':'ctime', 0:'area_mm', 1:'mm_measure', '2_y':'floor', \n",
    "                         '3_y':'floor_level', 4:'unit_room',5:'roomtype', 6:'unit_bath', 7:'bathroom' })"
   ],
   "outputs": [],
   "metadata": {}
  },
  {
   "cell_type": "code",
   "execution_count": null,
   "source": [
    "raw_data = raw_data.drop_duplicates(keep='last', ignore_index=True)"
   ],
   "outputs": [],
   "metadata": {}
  },
  {
   "cell_type": "markdown",
   "source": [
    " *change reach format (eg. 5k to 5000)*\n"
   ],
   "metadata": {}
  },
  {
   "cell_type": "code",
   "execution_count": null,
   "source": [
    "new_condo_reach = []\n",
    "for r in raw_data['reach']:\n",
    "    if r[-1] == 'k':\n",
    "        y = float(r.replace('k',''))\n",
    "        new_condo_reach.append(int(y * 1000))\n",
    "    else:\n",
    "        new_condo_reach.append(int(r))"
   ],
   "outputs": [],
   "metadata": {}
  },
  {
   "cell_type": "code",
   "execution_count": null,
   "source": [
    "new_condo_reach = pd.DataFrame(new_condo_reach).reset_index()"
   ],
   "outputs": [],
   "metadata": {}
  },
  {
   "cell_type": "code",
   "execution_count": null,
   "source": [
    "#merge to raw_data\n",
    "raw_data = pd.merge(raw_data, new_condo_reach, on='index', how='inner')"
   ],
   "outputs": [],
   "metadata": {}
  },
  {
   "cell_type": "code",
   "execution_count": null,
   "source": [
    "#drop reach column\n",
    "raw_data = raw_data.drop(columns=['reach'])"
   ],
   "outputs": [],
   "metadata": {}
  },
  {
   "cell_type": "markdown",
   "source": [
    " *merge cdate and ctime to datetime datatype before starting clean cdate and ctime unformat*\n",
    "\n",
    " find different day starting from crete post date, To current days just scrape data."
   ],
   "metadata": {}
  },
  {
   "cell_type": "code",
   "execution_count": null,
   "source": [
    "for i in ['วินาทีที่แล้ว', 'นาทีที่แล้ว', 'ชั่วโมงที่แล้ว', 'เมื่อวานนี้']\n",
    "    clean_oldtime_data = raw_data[raw_data['ctime'] != i ]"
   ],
   "outputs": [],
   "metadata": {}
  },
  {
   "cell_type": "code",
   "execution_count": null,
   "source": [
    "raw_data = clean_oldtime_data.reset_index()"
   ],
   "outputs": [],
   "metadata": {}
  },
  {
   "cell_type": "code",
   "execution_count": null,
   "source": [
    "raw_data['to_date'] = pd.to_datetime(raw_data['to_date'])\n",
    "raw_data['from_date'] = raw_data['cdate'].map(str) + ' ' + raw_data['ctime'].map(str) \n",
    "raw_data['from_date'] = pd.to_datetime(raw_data['from_date'])\n",
    "raw_data = raw_data.drop(columns=['cdate', 'ctime'])\n",
    "raw_data['diff_day'] = (raw_data['to_date'] - raw_data['from_date']) / np.timedelta64(1, 'D')"
   ],
   "outputs": [],
   "metadata": {}
  },
  {
   "cell_type": "markdown",
   "source": [
    " *merge unit_room, roomtype, unit_bath and bathroom to separate into bedroom_unit and bathroom_unit numberical format*"
   ],
   "metadata": {}
  },
  {
   "cell_type": "code",
   "execution_count": null,
   "source": [
    "raw_data['room_detail'] = raw_data['unit_room'].map(str) + raw_data['roomtype'].map(str) + raw_data['unit_bath'].map(str) + raw_data['bathroom'].map(str)\n",
    "raw_data = raw_data.drop(columns=['unit_room', 'roomtype', 'unit_bath', 'bathroom'])"
   ],
   "outputs": [],
   "metadata": {}
  },
  {
   "cell_type": "code",
   "execution_count": null,
   "source": [
    "bedroom_unit = []\n",
    "for i in raw_data['room_detail']:\n",
    "    if i[0] == '1':\n",
    "        bedroom_unit.append(1)\n",
    "    elif i[0] == '2':\n",
    "        bedroom_unit.append(2)\n",
    "    elif i[0] == '3':\n",
    "        bedroom_unit.append(3)\n",
    "    elif i[0] == '4':\n",
    "        bedroom_unit.append(4)\n",
    "    elif i[0] == '5':\n",
    "        bedroom_unit.append(5)\n",
    "    elif i[0] == '8':\n",
    "        bedroom_unit.append(8)\n",
    "    else:\n",
    "        bedroom_unit.append(0)\n",
    "bedroom_unit = pd.DataFrame(bedroom_unit)"
   ],
   "outputs": [],
   "metadata": {}
  },
  {
   "cell_type": "code",
   "execution_count": null,
   "source": [
    "bathroom_unit = []\n",
    "for i in raw_data['room_detail']:\n",
    "    if i[8] in ('1', '2', '3', '4', '5'):\n",
    "        bathroom_unit.append(i[8])\n",
    "    elif i[11] in ('1', '2', '3'):\n",
    "        bathroom_unit.append(i[11])\n",
    "    else:\n",
    "        bathroom_unit.append(i[9])\n",
    "bathroom_unit = pd.DataFrame(bathroom_unit)"
   ],
   "outputs": [],
   "metadata": {}
  },
  {
   "cell_type": "code",
   "execution_count": null,
   "source": [
    "raw_data = pd.merge(raw_data, bedroom_unit, on='index', how='inner' )\n",
    "raw_data = pd.merge(raw_data, bathroom_unit, on='index', how='inner' )"
   ],
   "outputs": [],
   "metadata": {}
  },
  {
   "cell_type": "markdown",
   "source": [
    " *change datatype to correct format*"
   ],
   "metadata": {}
  },
  {
   "cell_type": "code",
   "execution_count": null,
   "source": [
    "raw_data['rent_price'] = raw_data['rent_price'].astype('int')\n",
    "raw_data['area_mm'] = raw_data.to_numeric(df['area_mm'])\n",
    "raw_data['new_reach'] = raw_data['new_reach'].astype('int')\n",
    "raw_data['bedroom_unit'] = raw_data['bedroom_unit'].astype('int')\n",
    "raw_data['bathroom_unit'] = raw_data['bathroom_unit'].astype('int')"
   ],
   "outputs": [],
   "metadata": {}
  },
  {
   "cell_type": "markdown",
   "source": [
    " *export csv file to visualize in tableau*"
   ],
   "metadata": {}
  },
  {
   "cell_type": "code",
   "execution_count": null,
   "source": [
    "raw_data.to_csv('/lvinsider_data.csv')"
   ],
   "outputs": [],
   "metadata": {}
  },
  {
   "cell_type": "markdown",
   "source": [
    "# TASK 3 : Visualize \n",
    "---"
   ],
   "metadata": {}
  },
  {
   "cell_type": "markdown",
   "source": [],
   "metadata": {}
  },
  {
   "cell_type": "markdown",
   "source": [],
   "metadata": {}
  },
  {
   "cell_type": "markdown",
   "source": [],
   "metadata": {}
  },
  {
   "cell_type": "markdown",
   "source": [
    "# TASK 4: Analyzed correlation two independent variable\n",
    "---\n",
    "analyzed only top 15 location_zone to find correlation"
   ],
   "metadata": {}
  },
  {
   "cell_type": "code",
   "execution_count": 2,
   "source": [
    "df_temp = pd.read_csv('/Users/natthakitngamcharoensin/Documents/projects/pythonxlivinginsider/lvinsider_data.csv')"
   ],
   "outputs": [],
   "metadata": {}
  },
  {
   "cell_type": "code",
   "execution_count": 3,
   "source": [
    "df_temp = raw_data\n",
    "df_temp"
   ],
   "outputs": [
    {
     "output_type": "execute_result",
     "data": {
      "text/html": [
       "<div>\n",
       "<style scoped>\n",
       "    .dataframe tbody tr th:only-of-type {\n",
       "        vertical-align: middle;\n",
       "    }\n",
       "\n",
       "    .dataframe tbody tr th {\n",
       "        vertical-align: top;\n",
       "    }\n",
       "\n",
       "    .dataframe thead th {\n",
       "        text-align: right;\n",
       "    }\n",
       "</style>\n",
       "<table border=\"1\" class=\"dataframe\">\n",
       "  <thead>\n",
       "    <tr style=\"text-align: right;\">\n",
       "      <th></th>\n",
       "      <th>title</th>\n",
       "      <th>rent_price</th>\n",
       "      <th>location_zone</th>\n",
       "      <th>area_mm</th>\n",
       "      <th>floor_level</th>\n",
       "      <th>bedroom_unit</th>\n",
       "      <th>bathroom_unit</th>\n",
       "      <th>new_reach</th>\n",
       "      <th>to_date</th>\n",
       "      <th>from_date</th>\n",
       "      <th>diff_day</th>\n",
       "    </tr>\n",
       "  </thead>\n",
       "  <tbody>\n",
       "    <tr>\n",
       "      <th>0</th>\n",
       "      <td>ให้เช่า คอนโด เคนซิงตัน สุขุมวิท-เทพารักษ์</td>\n",
       "      <td>7000</td>\n",
       "      <td>สมุทรปราการ สำโรง</td>\n",
       "      <td>24.00</td>\n",
       "      <td>13</td>\n",
       "      <td>1</td>\n",
       "      <td>1</td>\n",
       "      <td>1200</td>\n",
       "      <td>2022-05-06 18:00:00</td>\n",
       "      <td>2022-05-04 23:59:00</td>\n",
       "      <td>1.750694</td>\n",
       "    </tr>\n",
       "    <tr>\n",
       "      <th>1</th>\n",
       "      <td>[ให้เช่า] คอนโด เคนซิงตัน สุขุมวิท-เทพารักษ์</td>\n",
       "      <td>6500</td>\n",
       "      <td>สมุทรปราการ สำโรง</td>\n",
       "      <td>24.00</td>\n",
       "      <td>11</td>\n",
       "      <td>1</td>\n",
       "      <td>1</td>\n",
       "      <td>1100</td>\n",
       "      <td>2022-05-06 18:00:00</td>\n",
       "      <td>2022-05-04 23:59:00</td>\n",
       "      <td>1.750694</td>\n",
       "    </tr>\n",
       "    <tr>\n",
       "      <th>2</th>\n",
       "      <td>[ให้เช่า] คอนโด เคนซิงตัน สุขุมวิท-เทพารักษ์</td>\n",
       "      <td>6500</td>\n",
       "      <td>สมุทรปราการ สำโรง</td>\n",
       "      <td>21.50</td>\n",
       "      <td>26</td>\n",
       "      <td>1</td>\n",
       "      <td>1</td>\n",
       "      <td>938</td>\n",
       "      <td>2022-05-06 18:00:00</td>\n",
       "      <td>2022-05-04 23:59:00</td>\n",
       "      <td>1.750694</td>\n",
       "    </tr>\n",
       "    <tr>\n",
       "      <th>3</th>\n",
       "      <td>[ให้เช่า] คอนโด เคนซิงตัน สุขุมวิท-เทพารักษ์</td>\n",
       "      <td>6500</td>\n",
       "      <td>สมุทรปราการ สำโรง</td>\n",
       "      <td>21.00</td>\n",
       "      <td>16</td>\n",
       "      <td>1</td>\n",
       "      <td>1</td>\n",
       "      <td>691</td>\n",
       "      <td>2022-05-06 18:00:00</td>\n",
       "      <td>2022-05-04 23:59:00</td>\n",
       "      <td>1.750694</td>\n",
       "    </tr>\n",
       "    <tr>\n",
       "      <th>4</th>\n",
       "      <td>[ให้เช่า] คอนโด เคนซิงตัน สุขุมวิท-เทพารักษ์</td>\n",
       "      <td>6500</td>\n",
       "      <td>สมุทรปราการ สำโรง</td>\n",
       "      <td>21.50</td>\n",
       "      <td>22</td>\n",
       "      <td>1</td>\n",
       "      <td>1</td>\n",
       "      <td>928</td>\n",
       "      <td>2022-05-06 18:00:00</td>\n",
       "      <td>2022-05-04 23:59:00</td>\n",
       "      <td>1.750694</td>\n",
       "    </tr>\n",
       "    <tr>\n",
       "      <th>...</th>\n",
       "      <td>...</td>\n",
       "      <td>...</td>\n",
       "      <td>...</td>\n",
       "      <td>...</td>\n",
       "      <td>...</td>\n",
       "      <td>...</td>\n",
       "      <td>...</td>\n",
       "      <td>...</td>\n",
       "      <td>...</td>\n",
       "      <td>...</td>\n",
       "      <td>...</td>\n",
       "    </tr>\n",
       "    <tr>\n",
       "      <th>91005</th>\n",
       "      <td>1 ห้องนอน 35 ตร.ม. ราคาดีที่สุด</td>\n",
       "      <td>12000</td>\n",
       "      <td>บางนา แบริ่ง ลาซาล</td>\n",
       "      <td>35.01</td>\n",
       "      <td>14</td>\n",
       "      <td>1</td>\n",
       "      <td>1</td>\n",
       "      <td>35200</td>\n",
       "      <td>2022-05-06 18:00:00</td>\n",
       "      <td>2022-04-01 23:04:00</td>\n",
       "      <td>34.788889</td>\n",
       "    </tr>\n",
       "    <tr>\n",
       "      <th>91006</th>\n",
       "      <td>ใช้ชีวิต เหนือระดับ 2 ห้องนอน 185 ราชดำริ</td>\n",
       "      <td>120000</td>\n",
       "      <td>วิทยุ ชิดลม หลังสวน</td>\n",
       "      <td>119.00</td>\n",
       "      <td>27</td>\n",
       "      <td>2</td>\n",
       "      <td>2</td>\n",
       "      <td>36200</td>\n",
       "      <td>2022-05-06 18:00:00</td>\n",
       "      <td>2022-03-27 23:27:00</td>\n",
       "      <td>39.772917</td>\n",
       "    </tr>\n",
       "    <tr>\n",
       "      <th>91007</th>\n",
       "      <td>ให้เช่า 2 นอน 100 ตร.ม. ไฮฟ์ ตากสิน 35,000</td>\n",
       "      <td>35000</td>\n",
       "      <td>วงเวียนใหญ่ เจริญนคร</td>\n",
       "      <td>100.01</td>\n",
       "      <td>27</td>\n",
       "      <td>2</td>\n",
       "      <td>2</td>\n",
       "      <td>37100</td>\n",
       "      <td>2022-05-06 18:00:00</td>\n",
       "      <td>2022-03-27 23:28:00</td>\n",
       "      <td>39.772222</td>\n",
       "    </tr>\n",
       "    <tr>\n",
       "      <th>91008</th>\n",
       "      <td>พิเศษ ห้องใหม่ ให้เช่า 2 นอน 50 ตร.ม. โว้คเพลส...</td>\n",
       "      <td>20000</td>\n",
       "      <td>บางนา แบริ่ง ลาซาล</td>\n",
       "      <td>50.01</td>\n",
       "      <td>7</td>\n",
       "      <td>2</td>\n",
       "      <td>1</td>\n",
       "      <td>39100</td>\n",
       "      <td>2022-05-06 18:00:00</td>\n",
       "      <td>2022-03-27 23:28:00</td>\n",
       "      <td>39.772222</td>\n",
       "    </tr>\n",
       "    <tr>\n",
       "      <th>91009</th>\n",
       "      <td>พิเศษ ให้เช่า 1 นอน 35 ตร.ม. โว้คเพลส 12,000 เ...</td>\n",
       "      <td>12000</td>\n",
       "      <td>บางนา แบริ่ง ลาซาล</td>\n",
       "      <td>35.01</td>\n",
       "      <td>7</td>\n",
       "      <td>1</td>\n",
       "      <td>1</td>\n",
       "      <td>40800</td>\n",
       "      <td>2022-05-06 18:00:00</td>\n",
       "      <td>2022-03-27 23:28:00</td>\n",
       "      <td>39.772222</td>\n",
       "    </tr>\n",
       "  </tbody>\n",
       "</table>\n",
       "<p>91010 rows × 11 columns</p>\n",
       "</div>"
      ],
      "text/plain": [
       "                                                   title  rent_price  \\\n",
       "0             ให้เช่า คอนโด เคนซิงตัน สุขุมวิท-เทพารักษ์        7000   \n",
       "1           [ให้เช่า] คอนโด เคนซิงตัน สุขุมวิท-เทพารักษ์        6500   \n",
       "2           [ให้เช่า] คอนโด เคนซิงตัน สุขุมวิท-เทพารักษ์        6500   \n",
       "3           [ให้เช่า] คอนโด เคนซิงตัน สุขุมวิท-เทพารักษ์        6500   \n",
       "4           [ให้เช่า] คอนโด เคนซิงตัน สุขุมวิท-เทพารักษ์        6500   \n",
       "...                                                  ...         ...   \n",
       "91005                    1 ห้องนอน 35 ตร.ม. ราคาดีที่สุด       12000   \n",
       "91006          ใช้ชีวิต เหนือระดับ 2 ห้องนอน 185 ราชดำริ      120000   \n",
       "91007         ให้เช่า 2 นอน 100 ตร.ม. ไฮฟ์ ตากสิน 35,000       35000   \n",
       "91008  พิเศษ ห้องใหม่ ให้เช่า 2 นอน 50 ตร.ม. โว้คเพลส...       20000   \n",
       "91009  พิเศษ ให้เช่า 1 นอน 35 ตร.ม. โว้คเพลส 12,000 เ...       12000   \n",
       "\n",
       "              location_zone  area_mm floor_level  bedroom_unit  bathroom_unit  \\\n",
       "0         สมุทรปราการ สำโรง    24.00          13             1              1   \n",
       "1         สมุทรปราการ สำโรง    24.00          11             1              1   \n",
       "2         สมุทรปราการ สำโรง    21.50          26             1              1   \n",
       "3         สมุทรปราการ สำโรง    21.00          16             1              1   \n",
       "4         สมุทรปราการ สำโรง    21.50          22             1              1   \n",
       "...                     ...      ...         ...           ...            ...   \n",
       "91005    บางนา แบริ่ง ลาซาล    35.01          14             1              1   \n",
       "91006   วิทยุ ชิดลม หลังสวน   119.00          27             2              2   \n",
       "91007  วงเวียนใหญ่ เจริญนคร   100.01          27             2              2   \n",
       "91008    บางนา แบริ่ง ลาซาล    50.01           7             2              1   \n",
       "91009    บางนา แบริ่ง ลาซาล    35.01           7             1              1   \n",
       "\n",
       "       new_reach              to_date            from_date   diff_day  \n",
       "0           1200  2022-05-06 18:00:00  2022-05-04 23:59:00   1.750694  \n",
       "1           1100  2022-05-06 18:00:00  2022-05-04 23:59:00   1.750694  \n",
       "2            938  2022-05-06 18:00:00  2022-05-04 23:59:00   1.750694  \n",
       "3            691  2022-05-06 18:00:00  2022-05-04 23:59:00   1.750694  \n",
       "4            928  2022-05-06 18:00:00  2022-05-04 23:59:00   1.750694  \n",
       "...          ...                  ...                  ...        ...  \n",
       "91005      35200  2022-05-06 18:00:00  2022-04-01 23:04:00  34.788889  \n",
       "91006      36200  2022-05-06 18:00:00  2022-03-27 23:27:00  39.772917  \n",
       "91007      37100  2022-05-06 18:00:00  2022-03-27 23:28:00  39.772222  \n",
       "91008      39100  2022-05-06 18:00:00  2022-03-27 23:28:00  39.772222  \n",
       "91009      40800  2022-05-06 18:00:00  2022-03-27 23:28:00  39.772222  \n",
       "\n",
       "[91010 rows x 11 columns]"
      ]
     },
     "metadata": {},
     "execution_count": 3
    }
   ],
   "metadata": {}
  },
  {
   "cell_type": "markdown",
   "source": [
    " *select only top 15 location*"
   ],
   "metadata": {}
  },
  {
   "cell_type": "code",
   "execution_count": 5,
   "source": [
    "locat = ['สมุทรปราการ สำโรง', 'เสรีไทย-นิด้า', 'นานา', 'บางแค เพชรเกษม',\n",
    "       'วิภาวดี ดอนเมือง หลักสี่ ', 'สีลม ศาลาแดง บางรัก',\n",
    "       'พระราม 2 บางขุนเทียน', 'พระราม 5 ราชพฤกษ์ บางกรวย',\n",
    "       'เกษตร นวมินทร์ ลาดปลาเค้า', 'นนทบุรี บางใหญ่ บางบัวทอง',\n",
    "       'เลียบทางด่วนรามอินทรา', 'ปิ่นเกล้า จรัญสนิทวงศ์', 'นวมินทร์ รามอินทรา',\n",
    "       'พัฒนาการ ศรีนครินทร์',\n",
    "       'แจ้งวัฒนะ เมืองทอง', 'เกษตรศาสตร์ รัชโยธิน',\n",
    "       'รัตนาธิเบศร์ สนามบินน้ำ พระนั่งเกล้า', 'พระราม 3 สาธุประดิษฐ์',\n",
    "       'คลองเตย กล้วยน้ำไท', 'รามคำแหง หัวหมาก', 'ลาดกระบัง สุวรรณภูมิ', 'ปทุมธานี รังสิต ธรรมศาสตร์',\n",
    "       'พระราม 8 สามเสน ราชวัตร', 'โชคชัย4 ลาดพร้าว71',\n",
    "       'มีนบุรี-ร่มเกล้า', 'ลาดพร้าว101 แฮปปี้แลนด์',\n",
    "       'นครปฐม พุทธมณฑล ศาลายา', 'ราษฎร์บูรณะ สุขสวัสดิ์',\n",
    "       'เยาวราช บางลำพู']\n",
    "for i in locat:\n",
    "    df_temp = df_temp.loc[df_temp['location_zone'] != i ] "
   ],
   "outputs": [],
   "metadata": {}
  },
  {
   "cell_type": "code",
   "execution_count": 6,
   "source": [
    "df_temp['reach_per_day'] = df_temp['new_reach'] / df_temp['diff_day']"
   ],
   "outputs": [],
   "metadata": {}
  },
  {
   "cell_type": "code",
   "execution_count": 7,
   "source": [
    "#change the type to stored categorically\n",
    "df_temp.location_zone = pd.Categorical(df_temp.location_zone)"
   ],
   "outputs": [],
   "metadata": {}
  },
  {
   "cell_type": "code",
   "execution_count": 9,
   "source": [
    "#create bin stored interval of area and change to catagory format\n",
    "df_temp['area_bins'] = pd.qcut(df_temp['area_mm'], 15)"
   ],
   "outputs": [],
   "metadata": {}
  },
  {
   "cell_type": "code",
   "execution_count": 17,
   "source": [
    "df_temp = df_temp.drop(columns=['title', 'floor_level', 'to_date', 'from_date'])"
   ],
   "outputs": [],
   "metadata": {}
  },
  {
   "cell_type": "code",
   "execution_count": 21,
   "source": [
    "plt.figure(figsize=(15,10))\n",
    "sns.pairplot(df_temp)"
   ],
   "outputs": [
    {
     "output_type": "execute_result",
     "data": {
      "text/plain": [
       "<seaborn.axisgrid.PairGrid at 0x7fbb69e19e80>"
      ]
     },
     "metadata": {},
     "execution_count": 21
    },
    {
     "output_type": "display_data",
     "data": {
      "text/plain": [
       "<Figure size 1080x720 with 0 Axes>"
      ]
     },
     "metadata": {}
    },
    {
     "output_type": "display_data",
     "data": {
      "image/png": "[encoded data removed]",
      "text/plain": [
       "<Figure size 720x720 with 20 Axes>"
      ]
     },
     "metadata": {
      "needs_background": "light"
     }
    }
   ],
   "metadata": {}
  },
  {
   "cell_type": "code",
   "execution_count": 22,
   "source": [
    "df_temp.corr()"
   ],
   "outputs": [
    {
     "output_type": "execute_result",
     "data": {
      "text/html": [
       "<div>\n",
       "<style scoped>\n",
       "    .dataframe tbody tr th:only-of-type {\n",
       "        vertical-align: middle;\n",
       "    }\n",
       "\n",
       "    .dataframe tbody tr th {\n",
       "        vertical-align: top;\n",
       "    }\n",
       "\n",
       "    .dataframe thead th {\n",
       "        text-align: right;\n",
       "    }\n",
       "</style>\n",
       "<table border=\"1\" class=\"dataframe\">\n",
       "  <thead>\n",
       "    <tr style=\"text-align: right;\">\n",
       "      <th></th>\n",
       "      <th>rent_price</th>\n",
       "      <th>bedroom_unit</th>\n",
       "      <th>bathroom_unit</th>\n",
       "      <th>reach_per_day</th>\n",
       "    </tr>\n",
       "  </thead>\n",
       "  <tbody>\n",
       "    <tr>\n",
       "      <th>rent_price</th>\n",
       "      <td>1.000000</td>\n",
       "      <td>0.566633</td>\n",
       "      <td>0.675882</td>\n",
       "      <td>-0.007150</td>\n",
       "    </tr>\n",
       "    <tr>\n",
       "      <th>bedroom_unit</th>\n",
       "      <td>0.566633</td>\n",
       "      <td>1.000000</td>\n",
       "      <td>0.773595</td>\n",
       "      <td>-0.003724</td>\n",
       "    </tr>\n",
       "    <tr>\n",
       "      <th>bathroom_unit</th>\n",
       "      <td>0.675882</td>\n",
       "      <td>0.773595</td>\n",
       "      <td>1.000000</td>\n",
       "      <td>-0.006395</td>\n",
       "    </tr>\n",
       "    <tr>\n",
       "      <th>reach_per_day</th>\n",
       "      <td>-0.007150</td>\n",
       "      <td>-0.003724</td>\n",
       "      <td>-0.006395</td>\n",
       "      <td>1.000000</td>\n",
       "    </tr>\n",
       "  </tbody>\n",
       "</table>\n",
       "</div>"
      ],
      "text/plain": [
       "               rent_price  bedroom_unit  bathroom_unit  reach_per_day\n",
       "rent_price       1.000000      0.566633       0.675882      -0.007150\n",
       "bedroom_unit     0.566633      1.000000       0.773595      -0.003724\n",
       "bathroom_unit    0.675882      0.773595       1.000000      -0.006395\n",
       "reach_per_day   -0.007150     -0.003724      -0.006395       1.000000"
      ]
     },
     "metadata": {},
     "execution_count": 22
    }
   ],
   "metadata": {}
  },
  {
   "cell_type": "code",
   "execution_count": 28,
   "source": [
    "plt.figure(figsize=(12,8))\n",
    "sns.heatmap(df_temp.corr(), annot=True, cmap='coolwarm')"
   ],
   "outputs": [
    {
     "output_type": "execute_result",
     "data": {
      "text/plain": [
       "<AxesSubplot:>"
      ]
     },
     "metadata": {},
     "execution_count": 28
    },
    {
     "output_type": "display_data",
     "data": {
      "image/png": "[encoded data removed]",
      "text/plain": [
       "<Figure size 864x576 with 2 Axes>"
      ]
     },
     "metadata": {
      "needs_background": "light"
     }
    }
   ],
   "metadata": {}
  },
  {
   "cell_type": "code",
   "execution_count": 27,
   "source": [
    "plt.figure(figsize=(12,8))\n",
    "sns.scatterplot(data=df_temp, x='rent_price', y='reach_per_day')"
   ],
   "outputs": [
    {
     "output_type": "execute_result",
     "data": {
      "text/plain": [
       "<AxesSubplot:xlabel='rent_price', ylabel='reach_per_day'>"
      ]
     },
     "metadata": {},
     "execution_count": 27
    },
    {
     "output_type": "display_data",
     "data": {
      "image/png": "[encoded data removed]",
      "text/plain": [
       "<Figure size 864x576 with 1 Axes>"
      ]
     },
     "metadata": {
      "needs_background": "light"
     }
    }
   ],
   "metadata": {}
  },
  {
   "cell_type": "markdown",
   "source": [
    " **Test about rental price and reach/day on each post**\n",
    " * H0 : There is no relationship between two variables\n",
    " * H1 : There is a relationship between two variables\n",
    " \n",
    " Use a correlation testing. A correlarion give two things, correlation coefficient, and a p-value.\n"
   ],
   "metadata": {}
  },
  {
   "cell_type": "code",
   "execution_count": 37,
   "source": [
    "from scipy.stats import stats"
   ],
   "outputs": [],
   "metadata": {}
  },
  {
   "cell_type": "code",
   "execution_count": 39,
   "source": [
    "pearson_coef, p_value = stats.pearsonr(df_temp[\"reach_per_day\"], df_temp[\"rent_price\"])\n",
    "\n",
    "print(\"Pearson Correlation Coefficient: \", pearson_coef, \"and a P-value of:\", round(p_value,3) )"
   ],
   "outputs": [
    {
     "output_type": "stream",
     "name": "stdout",
     "text": [
      "Pearson Correlation Coefficient:  -0.007149504500568178 and a P-value of: 0.058\n"
     ]
    }
   ],
   "metadata": {}
  },
  {
   "cell_type": "markdown",
   "source": [
    "As we can see the p-value is more than 0.05 hence, we accept the null hypothesis at a 95% level of confidence. **That means that there is no relationship between rental price and reach/day on each post.**"
   ],
   "metadata": {}
  }
 ],
 "metadata": {
  "orig_nbformat": 4,
  "language_info": {
   "name": "python",
   "version": "3.9.7",
   "mimetype": "text/x-python",
   "codemirror_mode": {
    "name": "ipython",
    "version": 3
   },
   "pygments_lexer": "ipython3",
   "nbconvert_exporter": "python",
   "file_extension": ".py"
  },
  "kernelspec": {
   "name": "python3",
   "display_name": "Python 3.9.7 64-bit ('base': conda)"
  },
  "interpreter": {
   "hash": "b062fc91e3de41ebfd44efd8360b8f9cbaff6caa46dcec79a3f74ad834b1bf2d"
  }
 },
 "nbformat": 4,
 "nbformat_minor": 2
}